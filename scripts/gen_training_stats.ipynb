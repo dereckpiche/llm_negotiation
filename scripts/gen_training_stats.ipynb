{
 "cells": [
  {
   "cell_type": "code",
   "execution_count": 2,
   "metadata": {},
   "outputs": [],
   "source": [
    "path = \"/home/mila/d/dereck.piche/scratch/llm_negotiation/2025-06-07___16-29-53_negotiation_game_normalized/seed_344\""
   ]
  },
  {
   "cell_type": "code",
   "execution_count": 3,
   "metadata": {},
   "outputs": [],
   "source": [
    "import matplotlib.pyplot as plt\n",
    "import os\n",
    "import json\n",
    "import numpy as np\n",
    "\n",
    "\n",
    "def get_from_nested_dict(dictio: dict, path: list[str]):\n",
    "    for sp in path[:-1]:\n",
    "        dictio = dictio[sp]\n",
    "    return dictio.get(path[-1])\n",
    "\n",
    "def set_at_path(dictio: dict, path: list[str], value):\n",
    "    for sp in path[:-1]:\n",
    "        if sp not in dictio:\n",
    "            dictio[sp] = {}\n",
    "        dictio = dictio[sp]\n",
    "    dictio[path[-1]] = value\n",
    "\n",
    "\n",
    "def produce_tabular_render(inpath: str, outpath: str = None):\n",
    "    \"\"\"\n",
    "    TODO: docstring\n",
    "    \"\"\"\n",
    "    with open(inpath, \"r\") as f:\n",
    "        data = json.load(f)\n",
    "    rollout_paths = data.keys()\n",
    "    for rollout_path in rollout_paths:\n",
    "        if outpath is None:\n",
    "            m_path = rollout_path.replace(\"/\", \"|\")\n",
    "            m_path = m_path.replace(\".json\", \"\")\n",
    "            m_path = (\n",
    "                os.path.split(inpath)[0]\n",
    "                + \"/contextualized_tabular_renders/\"\n",
    "                + m_path\n",
    "                + \"_tabular_render.csv\"\n",
    "            )\n",
    "        # import pdb; pdb.set_trace()\n",
    "        os.makedirs(os.path.split(m_path)[0], exist_ok=True)\n",
    "        metrics = data[rollout_path]\n",
    "        d = {k: [] for k in metrics[0].keys()}\n",
    "        for m in metrics:\n",
    "            for k, v in m.items():\n",
    "                d[k].append(v)\n",
    "        d = pd.DataFrame(d)\n",
    "        d.to_csv(m_path)\n",
    "\n",
    "def get_metric_paths(data: list[dict]):\n",
    "    d = data[0]\n",
    "    paths = []\n",
    "    def traverse_dict(d, current_path=[]):\n",
    "        for key, value in d.items():\n",
    "            new_path = current_path + [key]\n",
    "            if isinstance(value, dict):\n",
    "                traverse_dict(value, new_path)\n",
    "            else:\n",
    "                paths.append(new_path)\n",
    "    traverse_dict(d)\n",
    "    return paths\n",
    "\n",
    "def print_metric_paths(data: list[dict]):\n",
    "    paths = get_metric_paths(data)\n",
    "    for p in paths: print(p)\n",
    "\n",
    "\n",
    "def get_metric_iteration_list(data: list[dict], metric_path: list[str]):\n",
    "    import copy\n",
    "    sgl = []\n",
    "    for d in data:\n",
    "        sgl.append(get_from_nested_dict(d, metric_path))\n",
    "\n",
    "\n",
    "def to_1d_numeric(x):\n",
    "    \"\"\"Return a 1-D float array (or None if not numeric).\"\"\"\n",
    "    if x is None:\n",
    "        return None\n",
    "    # Scalars\n",
    "    if isinstance(x, (int, float, np.number)):\n",
    "        return np.array([float(x)])\n",
    "\n",
    "    # Anything list‑like → recurse & flatten\n",
    "    try:\n",
    "        flat = np.array(list(np.ravel(x)), dtype=float)\n",
    "        return flat\n",
    "    except Exception:\n",
    "        return None    # skip non‑numeric or badly structured payloads\n",
    "\n",
    "\n",
    "def get_single_metric_vector(data, metric_path, iterations=None):\n",
    "    vecs = []\n",
    "    for d in data:\n",
    "        ar = get_from_nested_dict(d, metric_path)\n",
    "        arr = to_1d_numeric(ar)\n",
    "        if arr is not None:\n",
    "            vecs.append(arr)\n",
    "\n",
    "    return np.concatenate(vecs) if vecs else np.empty(0, dtype=float)\n",
    "\n",
    "\n",
    "\n",
    "def get_iterations_data(iterations_path: str):\n",
    "    iterations_data = []\n",
    "    more_iterations = True\n",
    "    paths = os.listdir(iterations_path)\n",
    "    n = 0\n",
    "    iteration_path = os.path.join(iterations_path, f\"iteration_{n:03d}\")\n",
    "    while more_iterations:\n",
    "        if os.path.isdir(iteration_path):\n",
    "            for root, dirs, files in os.walk(iteration_path):\n",
    "                for file in files:\n",
    "                    if file.startswith(\"basic_training_metrics\"):\n",
    "                        file_path = os.path.join(root, file)\n",
    "                        with open(file_path, \"r\") as f:\n",
    "                            iterations_data.append(json.load(f))\n",
    "        else:\n",
    "            more_iterations = False\n",
    "        n += 1\n",
    "        iteration_path = os.path.join(iterations_path, f\"iteration_{n:03d}\")\n",
    "    return iterations_data\n",
    "\n"
   ]
  },
  {
   "cell_type": "code",
   "execution_count": 4,
   "metadata": {},
   "outputs": [],
   "source": [
    "data = get_iterations_data(path)"
   ]
  },
  {
   "cell_type": "markdown",
   "metadata": {},
   "source": [
    "# Get Stats"
   ]
  },
  {
   "cell_type": "code",
   "execution_count": 5,
   "metadata": {},
   "outputs": [
    {
     "data": {
      "image/png": "[encoded data removed]",
      "text/plain": [
       "<Figure size 640x480 with 3 Axes>"
      ]
     },
     "metadata": {},
     "output_type": "display_data"
    }
   ],
   "source": [
    "reg_scores = get_single_metric_vector(data, ['a1_after_normalizing'], range(len(data)))\n",
    "op_terms = get_single_metric_vector(data, ['ad_align_opp_shaping_terms'], range(len(data)))\n",
    "aa_scores = get_single_metric_vector(data, ['final_advantage_alignment_scores'], range(len(data)))\n",
    "n_bins = 25\n",
    "\n",
    "\n",
    "fig, axs = plt.subplots(1, 3, sharey=True, tight_layout=True)\n",
    "axs[0].hist(reg_scores, bins=n_bins)\n",
    "axs[0].set_xlabel('REG')\n",
    "axs[1].hist(op_terms, bins=n_bins)\n",
    "axs[1].set_xlabel('OP')\n",
    "axs[2].hist(aa_scores, bins=n_bins)\n",
    "axs[2].set_xlabel('AA')\n",
    "plt.show()"
   ]
  },
  {
   "cell_type": "code",
   "execution_count": 9,
   "metadata": {},
   "outputs": [
    {
     "name": "stdout",
     "output_type": "stream",
     "text": [
      "Reg. Mean:  -4.095874873834128e-18\n",
      "Reg. STD:  0.8980095591620315\n",
      "OP Mean:  0.5310611524103052\n",
      "OP STD:  0.9698671057807039\n",
      "AA Mean:  0.5310611524103053\n",
      "AA STD:  1.343826898496074\n",
      "AA min:  -5.202641879505279\n",
      "AA max:  5.93933628710069\n"
     ]
    }
   ],
   "source": [
    "print(\"Reg. Mean: \", np.mean(reg_scores))\n",
    "print(\"Reg. STD: \", np.std(reg_scores))\n",
    "print(\"OP Mean: \", np.mean(op_terms))\n",
    "print(\"OP STD: \", np.std(op_terms))\n",
    "print(\"AA Mean: \", np.mean(aa_scores))\n",
    "print(\"AA STD: \", np.std(aa_scores))\n",
    "print(\"AA min: \", np.min(aa_scores))\n",
    "print(\"AA max: \", np.max(aa_scores))"
   ]
  },
  {
   "cell_type": "code",
   "execution_count": 7,
   "metadata": {},
   "outputs": [
    {
     "name": "stdout",
     "output_type": "stream",
     "text": [
      "Corr. Coeff Reg & AA 0.6926135588170511\n",
      "Corr. Coeff OP & AA 0.7442806314088405\n"
     ]
    }
   ],
   "source": [
    "N = reg_scores.size\n",
    "print(\"Corr. Coeff Reg & AA\", np.corrcoef(reg_scores[:N], aa_scores[:N])[0,1])\n",
    "print(\"Corr. Coeff OP & AA\", np.corrcoef(op_terms[:N], aa_scores[:N])[0,1])"
   ]
  },
  {
   "cell_type": "code",
   "execution_count": null,
   "metadata": {},
   "outputs": [],
   "source": []
  },
  {
   "cell_type": "code",
   "execution_count": null,
   "metadata": {},
   "outputs": [],
   "source": []
  },
  {
   "cell_type": "code",
   "execution_count": null,
   "metadata": {},
   "outputs": [],
   "source": []
  },
  {
   "cell_type": "code",
   "execution_count": null,
   "metadata": {},
   "outputs": [],
   "source": []
  },
  {
   "cell_type": "code",
   "execution_count": null,
   "metadata": {},
   "outputs": [],
   "source": []
  },
  {
   "cell_type": "code",
   "execution_count": null,
   "metadata": {},
   "outputs": [],
   "source": []
  },
  {
   "cell_type": "code",
   "execution_count": null,
   "metadata": {},
   "outputs": [],
   "source": []
  }
 ],
 "metadata": {
  "kernelspec": {
   "display_name": ".venv",
   "language": "python",
   "name": "python3"
  },
  "language_info": {
   "codemirror_mode": {
    "name": "ipython",
    "version": 3
   },
   "file_extension": ".py",
   "mimetype": "text/x-python",
   "name": "python",
   "nbconvert_exporter": "python",
   "pygments_lexer": "ipython3",
   "version": "3.10.11"
  }
 },
 "nbformat": 4,
 "nbformat_minor": 2
}
