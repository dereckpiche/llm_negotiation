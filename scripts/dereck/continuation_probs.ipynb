{
 "cells": [
  {
   "cell_type": "markdown",
   "metadata": {},
   "source": [
    "## Probability Calculation for Game Length\n",
    "Suppose we play 1 round of a game, and then the game continues with probability `continuation_prob`. We want to compute the probability that a game longer than `max_length` is played in a batch of size `batch_size`.\n",
    "\n",
    "The probability that a game lasts exactly \\( n \\) rounds is given by the formula for the geometric distribution: \n",
    "$$ P(\\text{game lasts exactly } n \\text{ rounds}) = (1 - \\text{continuation\\_prob}) \\times (\\text{continuation\\_prob})^{n-1} $$\n",
    "\n",
    "To find the probability that a game lasts more than `max_length` rounds, we compute: \n",
    "$$ P(\\text{game lasts more than } \\text{max\\_length} \\text{ rounds}) = (\\text{continuation\\_prob})^{\\text{max\\_length}} $$\n",
    "\n",
    "For a batch of size `batch_size`, the probability that at least one game lasts more than `max_length` rounds is: \n",
    "$$ P(\\text{at least one game lasts more than } \\text{max\\_length} \\text{ rounds in a batch}) = 1 - \\left(1 - (\\text{continuation\\_prob})^{\\text{max\\_length}}\\right)^{\\text{batch\\_size}} $$"
   ]
  },
  {
   "cell_type": "code",
   "execution_count": 17,
   "metadata": {},
   "outputs": [
    {
     "name": "stdout",
     "output_type": "stream",
     "text": [
      "Probability that at least one game lasts more than 30 rounds in a batch of size 100: 0.5351322303990285\n"
     ]
    }
   ],
   "source": [
    "def probability_longer_than_max_length(continuation_prob, max_length, batch_size):\n",
    "    # Probability that a single game lasts more than max_length rounds\n",
    "    prob_single_game_longer = continuation_prob ** max_length\n",
    "    \n",
    "    # Probability that at least one game in the batch lasts more than max_length rounds\n",
    "    prob_at_least_one_longer = 1 - (1 - prob_single_game_longer) ** batch_size\n",
    "    \n",
    "    return prob_at_least_one_longer\n",
    "\n",
    "# Example usage\n",
    "continuation_prob = 0.85  # Example continuation probability\n",
    "max_length = 30         # Example maximum length\n",
    "batch_size = 100     # Example batch size\n",
    "\n",
    "probability = probability_longer_than_max_length(continuation_prob, max_length, batch_size)\n",
    "print(f\"Probability that at least one game lasts more than {max_length} rounds in a batch of size {batch_size}: {probability}\")"
   ]
  },
  {
   "cell_type": "markdown",
   "metadata": {},
   "source": []
  },
  {
   "cell_type": "code",
   "execution_count": 18,
   "metadata": {},
   "outputs": [
    {
     "name": "stdout",
     "output_type": "stream",
     "text": [
      "Expected number of rounds played AFTER the first round: 6.666666666666666\n"
     ]
    }
   ],
   "source": [
    "def expected_number_of_rounds(continuation_prob):\n",
    "    # Expected number of rounds played\n",
    "    expected_rounds = 1 / (1 - continuation_prob)\n",
    "    return expected_rounds\n",
    "\n",
    "# Example usage\n",
    "continuation_prob = 0.85  # Example continuation probability\n",
    "\n",
    "expected_rounds = expected_number_of_rounds(continuation_prob)\n",
    "print(f\"Expected number of rounds played AFTER the first round: {expected_rounds}\")"
   ]
  }
 ],
 "metadata": {
  "kernelspec": {
   "display_name": ".venv",
   "language": "python",
   "name": "python3"
  },
  "language_info": {
   "codemirror_mode": {
    "name": "ipython",
    "version": 3
   },
   "file_extension": ".py",
   "mimetype": "text/x-python",
   "name": "python",
   "nbconvert_exporter": "python",
   "pygments_lexer": "ipython3",
   "version": "3.10.11"
  }
 },
 "nbformat": 4,
 "nbformat_minor": 2
}
