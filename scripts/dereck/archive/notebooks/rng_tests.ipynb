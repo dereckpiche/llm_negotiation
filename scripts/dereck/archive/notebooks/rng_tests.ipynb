{
 "cells": [
  {
   "cell_type": "code",
   "execution_count": 3,
   "metadata": {},
   "outputs": [
    {
     "name": "stdout",
     "output_type": "stream",
     "text": [
      "2\n"
     ]
    }
   ],
   "source": [
    "import numpy as numpy\n",
    "\n",
    "random_number = numpy.random.randint(0, 10)\n",
    "print(random_number)"
   ]
  },
  {
   "cell_type": "code",
   "execution_count": 7,
   "metadata": {},
   "outputs": [
    {
     "name": "stdout",
     "output_type": "stream",
     "text": [
      "8\n",
      "1\n"
     ]
    }
   ],
   "source": [
    "import numpy as numpy\n",
    "\n",
    "random_number = numpy.random.randint(0, 10)\n",
    "print(random_number)\n",
    "\n",
    "\n",
    "import numpy as numpy\n",
    "\n",
    "random_number = numpy.random.randint(0, 10)\n",
    "print(random_number)"
   ]
  },
  {
   "cell_type": "code",
   "execution_count": 3,
   "metadata": {},
   "outputs": [
    {
     "name": "stdout",
     "output_type": "stream",
     "text": [
      "9\n",
      "3\n"
     ]
    }
   ],
   "source": [
    "import random\n",
    "\n",
    "random_number = random.randint(0, 10)\n",
    "print(random_number)\n",
    "\n",
    "import random\n",
    "\n",
    "random_number = random.randint(0, 10)\n",
    "print(random_number)\n"
   ]
  }
 ],
 "metadata": {
  "kernelspec": {
   "display_name": ".venv",
   "language": "python",
   "name": "python3"
  },
  "language_info": {
   "codemirror_mode": {
    "name": "ipython",
    "version": 3
   },
   "file_extension": ".py",
   "mimetype": "text/x-python",
   "name": "python",
   "nbconvert_exporter": "python",
   "pygments_lexer": "ipython3",
   "version": "3.10.12"
  }
 },
 "nbformat": 4,
 "nbformat_minor": 2
}
