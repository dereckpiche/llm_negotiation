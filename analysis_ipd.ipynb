{
 "cells": [
  {
   "cell_type": "code",
   "execution_count": null,
   "id": "0",
   "metadata": {},
   "outputs": [],
   "source": [
    "\n",
    "from pathlib import Path\n",
    "from mllm.markov_games.rollout_tree import *\n",
    "from mllm.markov_games.gather_and_export_utils import *\n",
    "from mllm.markov_games.trust_and_split.tas_simulation import SplitsLog\n",
    "import numpy as np\n",
    "from statistics import mean\n",
    "from collections import defaultdict\n",
    "import matplotlib.pyplot as plt\n",
    "import matplotlib.ticker as mtick\n",
    "import scienceplots\n",
    "plt.style.use('dedestyle.mplstyle')\n"
   ]
  },
  {
   "cell_type": "code",
   "execution_count": null,
   "id": "1",
   "metadata": {},
   "outputs": [],
   "source": [
    "# Get custom path from user input\n",
    "custom_path = input(\"Enter the path to your rollout data: \").strip()\n",
    "\n",
    "rollout_trees = get_rollout_trees(custom_path)\n",
    "print(f\"Rollout trees from {len(rollout_trees)} iterations loaded from: {custom_path}\")\n",
    "\n",
    "main_rollouts_paths = [[get_rollout_tree_paths(root)[0] for root in roots] for roots in rollout_trees]"
   ]
  },
  {
   "cell_type": "code",
   "execution_count": null,
   "id": "2",
   "metadata": {},
   "outputs": [],
   "source": [
    "def reward(agent_id: str, sl: SimulationStepLog): \n",
    "    return sl.rewards[agent_id]\n",
    "\n",
    "nb_iterations = len(rollout_trees)\n",
    "agent_ids = get_all_agents(rollout_trees[0][0])\n",
    "print(agent_ids)\n",
    "agent_greedy_levels = {}\n",
    "fig, ax = plt.subplots()\n",
    "for agent_id in agent_ids:\n",
    "    stat_func = lambda sl: reward(agent_id, sl)\n",
    "    avg_rewards = [[gather_simulation_stats(path=path, filter=lambda sl: True, stat_func=stat_func) for path in paths] for paths in main_rollouts_paths]\n",
    "    avg_rewards = [np.mean(np.array(gls)) for gls in avg_rewards]\n",
    "    ax.plot(np.arange(len(avg_rewards)), avg_rewards, label=agent_id)\n",
    "    \n",
    "# --- Axes & formatting ---\n",
    "ax.set_xlabel(\"Iteration\")\n",
    "ax.set_ylabel(\"Average Reward\")\n",
    "\n",
    "\n",
    "# Integer ticks on x\n",
    "ax.xaxis.set_major_locator(mtick.MaxNLocator(integer=True))\n",
    "\n",
    "\n",
    "ax.legend()\n",
    "plt.show()"
   ]
  }
 ],
 "metadata": {
  "kernelspec": {
   "display_name": ".analyse_venv",
   "language": "python",
   "name": "python3"
  },
  "language_info": {
   "codemirror_mode": {
    "name": "ipython",
    "version": 3
   },
   "file_extension": ".py",
   "mimetype": "text/x-python",
   "name": "python",
   "nbconvert_exporter": "python",
   "pygments_lexer": "ipython3",
   "version": "3.11.13"
  }
 },
 "nbformat": 4,
 "nbformat_minor": 5
}
