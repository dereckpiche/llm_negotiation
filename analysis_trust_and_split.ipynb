{
 "cells": [
  {
   "cell_type": "code",
   "execution_count": null,
   "id": "0",
   "metadata": {},
   "outputs": [],
   "source": [
    "\n",
    "from pathlib import Path\n",
    "from mllm.markov_games.rollout_tree import *\n",
    "from mllm.markov_games.gather_and_export_utils import (\n",
    "     gather_simulation_stats, \n",
    "     get_rollout_trees, get_rollout_tree_paths, gather_all_rewards, gather_all_chat_turns_for_path, get_all_agents\n",
    ")\n",
    "from mllm.markov_games.trust_and_split.tas_simulation import SplitsLog\n",
    "import numpy as np\n",
    "from statistics import mean\n",
    "from collections import defaultdict\n",
    "import matplotlib.pyplot as plt\n",
    "import matplotlib.ticker as mtick\n",
    "import scienceplots\n",
    "plt.style.use('dedestyle.mplstyle')\n"
   ]
  },
  {
   "cell_type": "code",
   "execution_count": null,
   "id": "1",
   "metadata": {},
   "outputs": [],
   "source": [
    "# Get custom path from user input\n",
    "custom_path = input(\"Enter the path to your rollout data: \").strip()\n",
    "\n",
    "rollout_trees = get_rollout_trees(custom_path)\n",
    "print(f\"Rollout trees from {len(rollout_trees)} iterations loaded from: {custom_path}\")"
   ]
  },
  {
   "cell_type": "code",
   "execution_count": null,
   "id": "2",
   "metadata": {},
   "outputs": [],
   "source": [
    "main_rollouts_paths = [[get_rollout_tree_paths(root)[0] for root in roots] for roots in rollout_trees]"
   ]
  },
  {
   "cell_type": "markdown",
   "id": "3",
   "metadata": {},
   "source": [
    "## Evolution of Greed"
   ]
  },
  {
   "cell_type": "code",
   "execution_count": null,
   "id": "4",
   "metadata": {},
   "outputs": [],
   "source": [
    "def greedy_level(agent_id: str, sl: SimulationStepLog): \n",
    "    return sl.info[\"coins_given_to_self\"][agent_id] / sl.info[\"num_coins\"]\n",
    "\n",
    "def split_filter(sl: SimulationStepLog):\n",
    "    info : dict = sl.info\n",
    "    if \"coins_given_to_self\" in info and \"num_coins\" in info:\n",
    "        return True\n",
    "    return False\n",
    "nb_iterations = len(rollout_trees)\n",
    "agent_ids = get_all_agents(rollout_trees[0][0])\n",
    "print(agent_ids)\n",
    "agent_greedy_levels = {}\n",
    "fig, ax = plt.subplots()\n",
    "for agent_id in agent_ids:\n",
    "    stat_func = lambda sl: greedy_level(agent_id, sl)\n",
    "    greedy_levels = [[gather_simulation_stats(path=path, filter=split_filter, stat_func=stat_func) for path in paths] for paths in main_rollouts_paths]\n",
    "    greedy_levels = [np.mean(np.array(gls)) for gls in greedy_levels]\n",
    "    ax.plot(np.arange(len(greedy_levels)), greedy_levels, label=agent_id)\n",
    "\n",
    "# --- Axes & formatting ---\n",
    "ax.set_xlabel(\"Iteration\")\n",
    "ax.set_ylabel(\"Average Coins Given to Self\")\n",
    "\n",
    "# Percent formatter — use xmax=100 if your stats are already in [0,100]\n",
    "ax.yaxis.set_major_formatter(mtick.PercentFormatter(xmax=1.0))\n",
    "\n",
    "# Integer ticks on x\n",
    "ax.xaxis.set_major_locator(mtick.MaxNLocator(integer=True))\n",
    "\n",
    "\n",
    "ax.legend()\n",
    "plt.show()"
   ]
  },
  {
   "cell_type": "markdown",
   "id": "5",
   "metadata": {},
   "source": [
    "## Evolution of Effiency"
   ]
  },
  {
   "cell_type": "markdown",
   "id": "6",
   "metadata": {},
   "source": []
  },
  {
   "cell_type": "code",
   "execution_count": null,
   "id": "7",
   "metadata": {},
   "outputs": [],
   "source": [
    "def efficiency_level(sl: SimulationStepLog): \n",
    "    max_reward = sl.info[\"num_coins\"] * np.max(np.array(list(sl.info[\"values\"].values())))\n",
    "    sum_rewards = np.sum(np.array(list(sl.rewards.values())))\n",
    "    return sum_rewards / max_reward\n",
    "\n",
    "def split_filter(sl: SimulationStepLog):\n",
    "    info : dict = sl.info\n",
    "    if \"coins_given_to_self\" in info and \"num_coins\" in info:\n",
    "        return True\n",
    "    return False\n",
    "\n",
    "nb_iterations = len(rollout_trees)\n",
    "fig, ax = plt.subplots()\n",
    "efficiency_levels = [[gather_simulation_stats(path=path, filter=split_filter, stat_func=efficiency_level) for path in paths] for paths in main_rollouts_paths]\n",
    "efficiency_levels = [np.mean(np.array(gls)) for gls in efficiency_levels]\n",
    "ax.plot(np.arange(len(efficiency_levels)), efficiency_levels)\n",
    "\n",
    "# --- Axes & formatting ---\n",
    "ax.set_xlabel(\"Iteration\")\n",
    "ax.set_ylabel(\"Average Efficiency\")\n",
    "\n",
    "# Percent formatter — use xmax=100 if your stats are already in [0,100]\n",
    "ax.yaxis.set_major_formatter(mtick.PercentFormatter(xmax=1.0))\n",
    "\n",
    "# Integer ticks on x\n",
    "ax.xaxis.set_major_locator(mtick.MaxNLocator(integer=True))\n",
    "\n",
    "plt.show()"
   ]
  },
  {
   "cell_type": "markdown",
   "id": "8",
   "metadata": {},
   "source": [
    "# Evolution of Reward\n"
   ]
  },
  {
   "cell_type": "code",
   "execution_count": null,
   "id": "664b0bbe",
   "metadata": {},
   "outputs": [],
   "source": [
    "def reward(agent_id: str, sl: SimulationStepLog): \n",
    "    return sl.rewards[agent_id]\n",
    "\n",
    "nb_iterations = len(rollout_trees)\n",
    "agent_ids = get_all_agents(rollout_trees[0][0])\n",
    "print(agent_ids)\n",
    "agent_greedy_levels = {}\n",
    "fig, ax = plt.subplots()\n",
    "for agent_id in agent_ids:\n",
    "    stat_func = lambda sl: reward(agent_id, sl)\n",
    "    avg_rewards = [[gather_simulation_stats(path=path, filter=lambda sl: True, stat_func=stat_func) for path in paths] for paths in main_rollouts_paths]\n",
    "    avg_rewards = [np.mean(np.array(gls)) for gls in avg_rewards]\n",
    "    ax.plot(np.arange(len(avg_rewards)), avg_rewards, label=agent_id)\n",
    "    \n",
    "# --- Axes & formatting ---\n",
    "ax.set_xlabel(\"Iteration\")\n",
    "ax.set_ylabel(\"Average Reward\")\n",
    "\n",
    "\n",
    "# Integer ticks on x\n",
    "ax.xaxis.set_major_locator(mtick.MaxNLocator(integer=True))\n",
    "\n",
    "\n",
    "ax.legend()\n",
    "plt.show()"
   ]
  }
 ],
 "metadata": {
  "kernelspec": {
   "display_name": ".analyse_venv",
   "language": "python",
   "name": "python3"
  },
  "language_info": {
   "codemirror_mode": {
    "name": "ipython",
    "version": 3
   },
   "file_extension": ".py",
   "mimetype": "text/x-python",
   "name": "python",
   "nbconvert_exporter": "python",
   "pygments_lexer": "ipython3",
   "version": "3.11.13"
  }
 },
 "nbformat": 4,
 "nbformat_minor": 5
}
