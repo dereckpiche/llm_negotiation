{
 "cells": [
  {
   "cell_type": "code",
   "execution_count": null,
   "id": "0",
   "metadata": {},
   "outputs": [],
   "source": [
    "\n",
    "from pathlib import Path\n",
    "from mllm.markov_games.rollout_tree import *\n",
    "from mllm.markov_games.gather_and_export_utils import (\n",
    "     gather_simulation_stats, \n",
    "     get_rollout_trees, get_rollout_tree_paths, gather_all_rewards, gather_all_chat_turns_for_path, get_all_agents\n",
    ")\n",
    "from mllm.markov_games.trust_and_split.tas_simulation import SplitsLog\n",
    "import matplotlib.pyplot as plt\n",
    "import numpy as np\n",
    "from statistics import mean\n",
    "from collections import defaultdict\n",
    "project_root = Path.cwd().parent\n",
    "sys.path.insert(0, str(project_root))"
   ]
  },
  {
   "cell_type": "code",
   "execution_count": null,
   "id": "1",
   "metadata": {},
   "outputs": [],
   "source": [
    "# Get custom path from user input\n",
    "custom_path = input(\"Enter the path to your rollout data: \").strip()\n",
    "\n",
    "rollout_trees = get_rollout_trees(custom_path)\n",
    "print(f\"Rollout trees from {len(rollout_trees)} iterations loaded from: {custom_path}\")"
   ]
  },
  {
   "cell_type": "code",
   "execution_count": null,
   "id": "2",
   "metadata": {},
   "outputs": [],
   "source": [
    "main_rollouts_paths = [[get_rollout_tree_paths(root)[0] for root in roots] for roots in rollout_trees]"
   ]
  },
  {
   "cell_type": "code",
   "execution_count": null,
   "id": "3",
   "metadata": {},
   "outputs": [],
   "source": [
    "def greedy_level(agent_id: str, sl: SimulationStepLog): \n",
    "    return sl.info[\"coins_given_to_self\"][agent_id] / sl.info[\"num_coins\"]\n",
    "\n",
    "def split_filter(sl: SimulationStepLog):\n",
    "    info : dict = sl.info\n",
    "    if \"coins_given_to_self\" in info and \"num_coins\" in info:\n",
    "        return True\n",
    "    return False\n",
    "nb_iterations = len(rollout_trees)\n",
    "agent_ids = get_all_agents(rollout_trees[0][0])\n",
    "print(agent_ids)\n",
    "agent_greedy_levels = {}\n",
    "for agent_id in agent_ids:\n",
    "    stat_func = lambda sl: greedy_level(agent_id, sl)\n",
    "    greedy_levels = [[gather_simulation_stats(path=path, filter=split_filter, stat_func=stat_func) for path in paths] for paths in main_rollouts_paths]\n",
    "    greedy_levels = [np.mean(np.array(gls)) for gls in greedy_levels]\n",
    "    plt.plot(np.arange(len(greedy_levels)), greedy_levels, label=agent_id)\n",
    "import matplotlib.ticker as mtick\n",
    "plt.style.use('plotstyle.mplstyle')\n",
    "plt.gca().yaxis.set_major_formatter(mtick.PercentFormatter(1))\n",
    "plt.xticks(range(0, nb_iterations))\n",
    "plt.xlabel(\"Iteration\")\n",
    "plt.ylabel(\"Average Percentage of Coins Given to Self\")\n",
    "plt.legend()\n",
    "plt.show()"
   ]
  },
  {
   "cell_type": "code",
   "execution_count": null,
   "id": "4",
   "metadata": {},
   "outputs": [],
   "source": [
    "plt.cla()\n"
   ]
  },
  {
   "cell_type": "code",
   "execution_count": null,
   "id": "5",
   "metadata": {},
   "outputs": [],
   "source": []
  }
 ],
 "metadata": {
  "kernelspec": {
   "display_name": ".analyse_venv",
   "language": "python",
   "name": "python3"
  },
  "language_info": {
   "codemirror_mode": {
    "name": "ipython",
    "version": 3
   },
   "file_extension": ".py",
   "mimetype": "text/x-python",
   "name": "python",
   "nbconvert_exporter": "python",
   "pygments_lexer": "ipython3",
   "version": "3.11.13"
  }
 },
 "nbformat": 4,
 "nbformat_minor": 5
}
