{
 "cells": [
  {
   "cell_type": "code",
   "execution_count": null,
   "id": "b7da1bd1",
   "metadata": {},
   "outputs": [],
   "source": [
    "import matplotlib.pyplot as plt\n",
    "plt.style.use('dedestyle.mplstyle')\n",
    "import json, numpy as np\n",
    "import matplotlib.ticker as mtick"
   ]
  },
  {
   "cell_type": "code",
   "execution_count": null,
   "id": "7204ceff",
   "metadata": {},
   "outputs": [],
   "source": [
    "# your/path/to/seed/statistics.json\n",
    "stats_path = input(\"Enter the path to the statistics .json file: \")\n",
    "stats = json.load(open(stats_path))"
   ]
  },
  {
   "cell_type": "code",
   "execution_count": null,
   "id": "b013b8f1",
   "metadata": {},
   "outputs": [],
   "source": [
    "fig, ax = plt.subplots()\n",
    "target = \"split_greed\"\n",
    "plot_value = stats[target][\"all_agents\"]\n",
    "ax.plot(np.arange(len(plot_value)), plot_value)\n",
    "ax.set_xlabel(\"Iteration\")\n",
    "ax.set_ylabel(target)\n",
    "\n",
    "# Integer ticks on x\n",
    "ax.xaxis.set_major_locator(mtick.MaxNLocator(integer=True))\n",
    "\n",
    "plt.show()"
   ]
  },
  {
   "cell_type": "code",
   "execution_count": null,
   "id": "81da65be",
   "metadata": {},
   "outputs": [],
   "source": [
    "fig, ax = plt.subplots()\n",
    "target = \"split_efficiency\"\n",
    "plot_value = stats[target][\"all\"]\n",
    "ax.plot(np.arange(len(plot_value)), plot_value)\n",
    "ax.set_xlabel(\"Iteration\")\n",
    "ax.set_ylabel(target)\n",
    "\n",
    "# Integer ticks on x\n",
    "ax.xaxis.set_major_locator(mtick.MaxNLocator(integer=True))\n",
    "\n",
    "plt.show()"
   ]
  },
  {
   "cell_type": "code",
   "execution_count": null,
   "id": "67e03a1b",
   "metadata": {},
   "outputs": [],
   "source": [
    "fig, ax = plt.subplots()\n",
    "avg_rewards = json.load(open(stats_path))[\"avg_reward\"][\"Alice\"]\n",
    "\n",
    "ax.plot(np.arange(len(avg_rewards)), avg_rewards)\n",
    "ax.set_xlabel(\"Iteration\")\n",
    "ax.set_ylabel(\"Average Reward\")\n",
    "\n",
    "# Integer ticks on x\n",
    "ax.xaxis.set_major_locator(mtick.MaxNLocator(integer=True))\n",
    "\n",
    "plt.show()"
   ]
  }
 ],
 "metadata": {
  "kernelspec": {
   "display_name": "neoaa",
   "language": "python",
   "name": "python3"
  },
  "language_info": {
   "codemirror_mode": {
    "name": "ipython",
    "version": 3
   },
   "file_extension": ".py",
   "mimetype": "text/x-python",
   "name": "python",
   "nbconvert_exporter": "python",
   "pygments_lexer": "ipython3"
  }
 },
 "nbformat": 4,
 "nbformat_minor": 5
}
