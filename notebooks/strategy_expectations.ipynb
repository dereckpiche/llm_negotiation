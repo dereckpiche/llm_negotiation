{
 "cells": [
  {
   "cell_type": "code",
   "execution_count": null,
   "metadata": {},
   "outputs": [],
   "source": [
    "import numpy as np\n",
    "\n",
    "quants = np.random.random_integers(low=1, high=10, size=(1000, 3))\n",
    "values_1 = np.random.random_integers(low=1, high=10, size=(1000, 3))\n",
    "values_2 = np.random.random_integers(low=1, high=10, size=(1000, 3))\n",
    "\n",
    "random_exp = 0.5 * np.mean(np.sum(quants * values_1, axis=1))\n",
    "print(random_exp)\n",
    "\n",
    "take_all_1 = quants * values_1 \n",
    "take_all_2 = quants * values_2 \n",
    "maxes = np.max(np.concatenate([take_all_1[:, :, None], take_all_2[:, :, None]], axis=2))\n",
    "cooperative_exp = 0.5 * np.mean(np.sum(maxes))\n",
    "\n",
    "print(cooperative_exp)"
   ]
  }
 ],
 "metadata": {
  "language_info": {
   "name": "python"
  }
 },
 "nbformat": 4,
 "nbformat_minor": 2
}
