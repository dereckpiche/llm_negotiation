{
 "cells": [
  {
   "cell_type": "code",
   "execution_count": 9,
   "metadata": {},
   "outputs": [
    {
     "name": "stdout",
     "output_type": "stream",
     "text": [
      "45.444\n",
      "118.835\n"
     ]
    },
    {
     "name": "stderr",
     "output_type": "stream",
     "text": [
      "/tmp/ipykernel_3184418/2959972656.py:10: DeprecationWarning: This function is deprecated. Please call randint(1, 10 + 1) instead\n",
      "  quants = np.random.random_integers(low=low_q, high=high_q, size=(nb_samples, nb_items))\n",
      "/tmp/ipykernel_3184418/2959972656.py:11: DeprecationWarning: This function is deprecated. Please call randint(1, 10 + 1) instead\n",
      "  values_1 = np.random.random_integers(low=low_v, high=high_v, size=(nb_samples, nb_items))\n",
      "/tmp/ipykernel_3184418/2959972656.py:12: DeprecationWarning: This function is deprecated. Please call randint(1, 10 + 1) instead\n",
      "  values_2 = np.random.random_integers(low=low_v, high=high_v, size=(nb_samples, nb_items))\n"
     ]
    }
   ],
   "source": [
    "import numpy as np\n",
    "\n",
    "low_q = 1\n",
    "high_q = 10\n",
    "low_v = 1\n",
    "high_v = 10\n",
    "nb_items = 3   \n",
    "nb_samples = 1000   \n",
    "\n",
    "quants = np.random.random_integers(low=low_q, high=high_q, size=(nb_samples, nb_items))\n",
    "values_1 = np.random.random_integers(low=low_v, high=high_v, size=(nb_samples, nb_items))\n",
    "values_2 = np.random.random_integers(low=low_v, high=high_v, size=(nb_samples, nb_items))\n",
    "\n",
    "random_exp = 0.5 * np.mean(np.sum(quants * values_1, axis=1))\n",
    "print(random_exp)\n",
    "\n",
    "take_all_1 = quants * values_1 \n",
    "take_all_2 = quants * values_2 \n",
    "maxes = np.max(\n",
    "    np.concatenate([take_all_1[:, :, None], take_all_2[:, :, None]], axis=2),\n",
    "    axis=2\n",
    ")\n",
    "\n",
    "cooperative_exp = np.mean(np.sum(maxes, axis=1))\n",
    "print(cooperative_exp)"
   ]
  }
 ],
 "metadata": {
  "kernelspec": {
   "display_name": ".venv",
   "language": "python",
   "name": "python3"
  },
  "language_info": {
   "codemirror_mode": {
    "name": "ipython",
    "version": 3
   },
   "file_extension": ".py",
   "mimetype": "text/x-python",
   "name": "python",
   "nbconvert_exporter": "python",
   "pygments_lexer": "ipython3",
   "version": "3.10.12"
  }
 },
 "nbformat": 4,
 "nbformat_minor": 2
}
