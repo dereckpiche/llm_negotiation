{
 "cells": [
  {
   "cell_type": "code",
   "execution_count": 9,
   "metadata": {},
   "outputs": [
    {
     "name": "stdout",
     "output_type": "stream",
     "text": [
      "Tokens to Generate per LLM:  1600\n",
      "Max context length per LLM (in tokens):  7200\n",
      "At 500 tokens/second, generation will take 0:03:24.800000 per iteration.\n",
      "Each iteration would need to take max 0:05:45.600000 to run 500 under 2 days\n",
      "Time per iteration: 0:12:15\n"
     ]
    }
   ],
   "source": [
    "\n",
    "nb_rounds=16\n",
    "nb_turns=1\n",
    "intro_prompt_length=800\n",
    "intermediary_length=100\n",
    "response_length=100\n",
    "\n",
    "game_context_length = nb_rounds \n",
    "tokens_to_generate_per_game_per_llm = nb_rounds * nb_turns * response_length \n",
    "print(\"Tokens to Generate per LLM: \", tokens_to_generate_per_game_per_llm)\n",
    "context_length_per_llm = intro_prompt_length + nb_rounds * (2 * (intermediary_length+response_length))\n",
    "print(\"Max context length per LLM (in tokens): \", context_length_per_llm)\n",
    "\n",
    "nb_iterations = 500\n",
    "total_games = 32\n",
    "average_token_per_seconds = 500 \n",
    "from datetime import timedelta\n",
    "total_seconds_per_iteration = total_games * 2 * tokens_to_generate_per_game_per_llm / average_token_per_seconds\n",
    "total_seconds = nb_iterations * total_seconds_per_iteration\n",
    "print(f\"At {average_token_per_seconds} tokens/second, generation will take {timedelta(seconds=total_seconds_per_iteration)} per iteration.\")\n",
    "#print(f\"At {average_token_per_seconds} tokens/second, generation will take a total of {timedelta(seconds=total_seconds)}\")\n",
    "\n",
    "nb_iterations = 500\n",
    "print(f\"Each iteration would need to take max {timedelta(seconds=48*3600/nb_iterations)} to run {nb_iterations} under 2 days\")\n",
    "\n",
    "training_seconds = 4 * 60 \n",
    "hf_vllm_switch_time = 45\n",
    "generation_time = 100\n",
    "seconds_per_iteration = training_seconds + hf_vllm_switch_time + generation_time\n",
    "print(f\"Time per iteration: {timedelta(seconds=seconds_per_iteration)}\")"
   ]
  },
  {
   "cell_type": "markdown",
   "metadata": {},
   "source": [
    "100 tokens with Llama 8B's tokenizer: \n",
    "\n",
    "\"\"\"\n",
    "Steele's Greenville expedition took place from April 2 to 25, 1863, during the Vicksburg campaign of the American Civil War. Union forces commanded by Major General Frederick Steele occupied Greenville, Mississippi, and operated in the surrounding area, to divert Confederate attention from a more important movement made in Louisiana by Major General John A. McClernand's corps. Minor skirmishing between the two sides occurred, particularly in the early stages of the expedition. Over 1,000 slave\n",
    "\"\"\"\n",
    "\n",
    "14 tokens: \n",
    "\n",
    "\"\"\"\n",
    "{hats:4, books:42, balls:12}\n",
    "\"\"\""
   ]
  },
  {
   "cell_type": "code",
   "execution_count": 10,
   "metadata": {},
   "outputs": [
    {
     "name": "stdout",
     "output_type": "stream",
     "text": [
      "The tokenizer has approx 4.8111587982832615 characters per token\n"
     ]
    }
   ],
   "source": [
    "print(f\"The tokenizer has approx {2242/466} characters per token\")"
   ]
  }
 ],
 "metadata": {
  "kernelspec": {
   "display_name": ".venv",
   "language": "python",
   "name": "python3"
  },
  "language_info": {
   "codemirror_mode": {
    "name": "ipython",
    "version": 3
   },
   "file_extension": ".py",
   "mimetype": "text/x-python",
   "name": "python",
   "nbconvert_exporter": "python",
   "pygments_lexer": "ipython3",
   "version": "3.10.12"
  }
 },
 "nbformat": 4,
 "nbformat_minor": 2
}
